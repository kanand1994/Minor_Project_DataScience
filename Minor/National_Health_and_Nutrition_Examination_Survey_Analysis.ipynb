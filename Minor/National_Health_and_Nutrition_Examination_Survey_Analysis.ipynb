{
  "nbformat": 4,
  "nbformat_minor": 0,
  "metadata": {
    "colab": {
      "provenance": []
    },
    "kernelspec": {
      "name": "python3",
      "display_name": "Python 3"
    },
    "language_info": {
      "name": "python"
    }
  },
  "cells": [
    {
      "cell_type": "code",
      "source": [
        "import numpy as np\n",
        "import matplotlib.pyplot as plt\n",
        "from pandas.plotting import scatter_matrix\n",
        "import pandas as pd"
      ],
      "metadata": {
        "id": "q4Y0sw2rkoVf"
      },
      "execution_count": null,
      "outputs": []
    },
    {
      "cell_type": "code",
      "source": [
        "# Step 2: Load Data as Numpy Matrices\n",
        "# Read the CSV files, skipping the header row\n",
        "male_url = \"https://raw.githubusercontent.com/gagolews/teaching-data/master/marek/nhanes_adult_male_bmx_2020.csv\"\n",
        "female_url = \"https://raw.githubusercontent.com/gagolews/teaching-data/master/marek/nhanes_adult_female_bmx_2020.csv\"\n",
        "\n",
        "male = np.genfromtxt(male_url, delimiter=',', skip_header=1)\n",
        "female = np.genfromtxt(female_url, delimiter=',', skip_header=1)\n",
        "\n",
        "print(\"Male data shape:\", male.shape)\n",
        "print(\"Female data shape:\", female.shape)"
      ],
      "metadata": {
        "id": "eESx8cX_kv7_"
      },
      "execution_count": null,
      "outputs": []
    },
    {
      "cell_type": "code",
      "source": [
        "# Step 3: Histograms for Male and Female Weights (NaN-safe)\n",
        "male_weights = male[:, 0][~np.isnan(male[:, 0])]  # Remove NaNs\n",
        "female_weights = female[:, 0][~np.isnan(female[:, 0])]  # Remove NaNs\n",
        "\n",
        "# Check if arrays are non-empty\n",
        "if len(male_weights) == 0 or len(female_weights) == 0:\n",
        "    raise ValueError(\"No valid weight data after NaN removal\")\n",
        "\n",
        "# Determine global x-axis limits\n",
        "global_min = min(np.nanmin(male_weights), np.nanmin(female_weights))\n",
        "global_max = max(np.nanmax(male_weights), np.nanmax(female_weights))\n",
        "\n",
        "plt.figure(figsize=(10, 6))\n",
        "plt.subplot(2, 1, 1)\n",
        "plt.hist(female_weights, bins=30, color='pink', edgecolor='black')\n",
        "plt.title('Female Weights Distribution')\n",
        "plt.ylabel('Frequency')\n",
        "plt.xlim(global_min, global_max)\n",
        "\n",
        "plt.subplot(2, 1, 2)\n",
        "plt.hist(male_weights, bins=30, color='blue', edgecolor='black')\n",
        "plt.title('Male Weights Distribution')\n",
        "plt.xlabel('Weight (kg)')\n",
        "plt.ylabel('Frequency')\n",
        "plt.xlim(global_min, global_max)\n",
        "\n",
        "plt.tight_layout()\n",
        "plt.show()"
      ],
      "metadata": {
        "id": "eX8K1Bvlk1O3"
      },
      "execution_count": null,
      "outputs": []
    },
    {
      "cell_type": "code",
      "source": [
        "# Step 4: Boxplot Comparing Male and Female Weights\n",
        "plt.figure(figsize=(8, 6))\n",
        "plt.boxplot([female_weights, male_weights], labels=['Female', 'Male'])\n",
        "plt.title('Weight Distribution Comparison')\n",
        "plt.ylabel('Weight (kg)')\n",
        "plt.show()"
      ],
      "metadata": {
        "id": "WrdYVytImS6g"
      },
      "execution_count": null,
      "outputs": []
    },
    {
      "cell_type": "code",
      "source": [
        "# Step 5: Numerical Aggregates\n",
        "def compute_aggregates(data, name):\n",
        "    mean = np.mean(data)\n",
        "    median = np.median(data)\n",
        "    std = np.std(data, ddof=1)\n",
        "    skew = (np.sum((data - mean)**3) / len(data)) / (std**3)\n",
        "    kurtosis = (np.sum((data - mean)**4) / len(data)) / (std**4) - 3\n",
        "    print(f\"{name} Aggregates:\\nMean: {mean:.2f}, Median: {median:.2f}, Std: {std:.2f}, Skewness: {skew:.2f}, Kurtosis: {kurtosis:.2f}\\n\")\n",
        "\n",
        "compute_aggregates(female_weights, \"Female Weights\")\n",
        "compute_aggregates(male_weights, \"Male Weights\")"
      ],
      "metadata": {
        "id": "PLL8z8CumkCf"
      },
      "execution_count": null,
      "outputs": []
    },
    {
      "cell_type": "code",
      "source": [
        "# Step 6: Add BMI Column to Female Matrix\n",
        "# BMI = weight (kg) / (height (m))^2\n",
        "female_bmi = female[:, 0] / (female[:, 1] / 100)**2\n",
        "female = np.hstack((female, female_bmi.reshape(-1, 1)))\n",
        "print(\"Female matrix with BMI:\", female.shape)"
      ],
      "metadata": {
        "id": "4dsuLF4Jmr43"
      },
      "execution_count": null,
      "outputs": []
    },
    {
      "cell_type": "code",
      "source": [
        "# Step 7: Standardize Female Data (Z-scores)\n",
        "zfemale = (female - female.mean(axis=0)) / female.std(axis=0, ddof=1)\n",
        "print(\"ZFemale shape:\", zfemale.shape)"
      ],
      "metadata": {
        "id": "oG1ZyXK-m9N-"
      },
      "execution_count": null,
      "outputs": []
    },
    {
      "cell_type": "code",
      "source": [
        "# --------------------------\n",
        "# Step 8: Handle Missing Values & Recompute Z-Scores\n",
        "# --------------------------\n",
        "# Remove rows with NaN in relevant columns BEFORE standardization\n",
        "cols_to_keep = [0, 1, 5, 6]  # Weight, Height, Hip, Waist (indices from original female matrix)\n",
        "female_clean = female[~np.isnan(female[:, cols_to_keep]).any(axis=1)]\n",
        "\n",
        "# Recompute BMI (Step 6) on cleaned data\n",
        "female_clean = np.hstack((female_clean, (female_clean[:, 0] / (female_clean[:, 1]/100)**2).reshape(-1, 1)))\n",
        "\n",
        "# Recompute z-scores (Step 7) on cleaned data\n",
        "zfemale_clean = (female_clean - female_clean.mean(axis=0)) / female_clean.std(axis=0, ddof=1)\n",
        "\n",
        "# --------------------------\n",
        "# Step 8: Scatterplot Matrix & Correlations (NaN-Free)\n",
        "# --------------------------\n",
        "selected_cols = zfemale_clean[:, [0, 1, 6, 5, 7]]  # Weight, Height, Waist, Hip, BMI\n",
        "df = pd.DataFrame(selected_cols, columns=['Weight', 'Height', 'Waist', 'Hip', 'BMI'])\n",
        "\n",
        "# Plot\n",
        "scatter_matrix(df, figsize=(12, 12), diagonal='kde')\n",
        "plt.show()\n",
        "\n",
        "# Compute correlations\n",
        "pearson_corr = np.corrcoef(selected_cols, rowvar=False)\n",
        "spearman_corr = pd.DataFrame(selected_cols).corr(method='spearman').values\n",
        "\n",
        "print(\"Pearson Correlation:\\n\", np.round(pearson_corr, 2))\n",
        "print(\"\\nSpearman Correlation:\\n\", np.round(spearman_corr, 2))"
      ],
      "metadata": {
        "id": "IJ3Sbm67nDFf"
      },
      "execution_count": null,
      "outputs": []
    },
    {
      "cell_type": "code",
      "source": [
        "# Step 9: Add Waist-to-Height and Waist-to-Hip Ratios\n",
        "male_wh = male[:, 6] / male[:, 1]    # Waist-to-height\n",
        "male_whr = male[:, 6] / male[:, 5]   # Waist-to-hip\n",
        "male = np.hstack((male, male_wh.reshape(-1, 1), male_whr.reshape(-1, 1)))\n",
        "\n",
        "female_wh = female[:, 6] / female[:, 1]\n",
        "female_whr = female[:, 6] / female[:, 5]\n",
        "female = np.hstack((female, female_wh.reshape(-1, 1), female_whr.reshape(-1, 1)))\n",
        "\n",
        "print(\"Male matrix with ratios:\", male.shape)\n",
        "print(\"Female matrix with ratios:\", female.shape)"
      ],
      "metadata": {
        "id": "vyeNKu3entFA"
      },
      "execution_count": null,
      "outputs": []
    },
    {
      "cell_type": "code",
      "source": [
        "# --------------------------\n",
        "# Clean Data for Both Genders\n",
        "# --------------------------\n",
        "# Remove rows with NaN in critical columns (weight, height, hip, waist)\n",
        "cols_to_clean = [0, 1, 5, 6]  # Indices: weight, height, hip, waist\n",
        "\n",
        "male_clean = male[~np.isnan(male[:, cols_to_clean]).any(axis=1)]\n",
        "female_clean = female[~np.isnan(female[:, cols_to_clean]).any(axis=1)]\n",
        "\n",
        "# --------------------------\n",
        "# Recompute Ratios on Cleaned Data\n",
        "# --------------------------\n",
        "# Add waist-to-height (WHtR) and waist-to-hip (WHR) ratios\n",
        "male_wh = male_clean[:, 6] / male_clean[:, 1]    # Waist-to-height\n",
        "male_whr = male_clean[:, 6] / male_clean[:, 5]   # Waist-to-hip\n",
        "male_clean = np.hstack((male_clean, male_wh.reshape(-1, 1), male_whr.reshape(-1, 1)))\n",
        "\n",
        "female_wh = female_clean[:, 6] / female_clean[:, 1]\n",
        "female_whr = female_clean[:, 6] / female_clean[:, 5]\n",
        "female_clean = np.hstack((female_clean, female_wh.reshape(-1, 1), female_whr.reshape(-1, 1)))\n",
        "\n",
        "# --------------------------\n",
        "# Corrected Boxplot\n",
        "# --------------------------\n",
        "plt.figure(figsize=(10, 6))\n",
        "plt.boxplot([\n",
        "    female_clean[:, 8],  # Female WHtR (column 8)\n",
        "    male_clean[:, 7],    # Male WHtR (column 7)\n",
        "    female_clean[:, 9],  # Female WHR (column 9)\n",
        "    male_clean[:, 8]     # Male WHR (column 8)\n",
        "], labels=['F WHtR', 'M WHtR', 'F WHR', 'M WHR'])\n",
        "plt.title('Waist-to-Height (WHtR) and Waist-to-Hip (WHR) Ratios')\n",
        "plt.ylabel('Ratio')\n",
        "plt.grid(True)\n",
        "plt.show()"
      ],
      "metadata": {
        "id": "R81QTQy0n7AH"
      },
      "execution_count": null,
      "outputs": []
    },
    {
      "cell_type": "code",
      "source": [
        "# --------------------------\n",
        "# Clean Data (Reuse from Step 8/10)\n",
        "# --------------------------\n",
        "# Remove NaN from critical columns (weight, height, hip, waist)\n",
        "cols_to_clean = [0, 1, 5, 6]  # Indices: weight, height, hip, waist\n",
        "female_clean = female[~np.isnan(female[:, cols_to_clean]).any(axis=1)]\n",
        "\n",
        "# Recompute BMI (Step 6) on cleaned data\n",
        "female_clean = np.hstack((female_clean, (female_clean[:, 0] / (female_clean[:, 1]/100)**2).reshape(-1, 1)))\n",
        "\n",
        "# Recompute z-scores (Step 7) on cleaned data\n",
        "zfemale_clean = (female_clean - female_clean.mean(axis=0)) / female_clean.std(axis=0, ddof=1)\n",
        "\n",
        "# --------------------------\n",
        "# Step 12: Extreme BMIs (NaN-Free)\n",
        "# --------------------------\n",
        "# Get BMI column from CLEANED data (column 7)\n",
        "bmi_indices = np.argsort(female_clean[:, 7])  # Use cleaned BMI values\n",
        "extreme_indices = np.concatenate([bmi_indices[:5], bmi_indices[-5:]])\n",
        "\n",
        "# Print standardized data from CLEANED zfemale\n",
        "print(\"Standardized Data for Extreme BMIs (Cleaned):\")\n",
        "print(zfemale_clean[extreme_indices])"
      ],
      "metadata": {
        "id": "YOX8noN5oBpn"
      },
      "execution_count": null,
      "outputs": []
    },
    {
      "cell_type": "markdown",
      "source": [
        "References:\n",
        "\n",
        "Watch video lectures for each topic again in LMS as well as in Youtube."
      ],
      "metadata": {
        "id": "KUzWp6NHcCrS"
      }
    }
  ]
}